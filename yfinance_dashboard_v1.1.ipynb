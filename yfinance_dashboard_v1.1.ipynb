{
 "cells": [
  {
   "cell_type": "code",
   "execution_count": 24,
   "metadata": {},
   "outputs": [
    {
     "data": {
      "text/html": [
       "<script>\n",
       "code_show=true; \n",
       "function code_toggle() {\n",
       " if (code_show){\n",
       " $('div.input').hide();\n",
       " } else {\n",
       " $('div.input').show();\n",
       " }\n",
       " code_show = !code_show\n",
       "} \n",
       "$( document ).ready(code_toggle);\n",
       "</script>\n",
       "<form action=\"javascript:code_toggle()\"><input type=\"submit\" value=\"Click here to toggle on/off the raw code.\"></form>"
      ],
      "text/plain": [
       "<IPython.core.display.HTML object>"
      ]
     },
     "execution_count": 24,
     "metadata": {},
     "output_type": "execute_result"
    }
   ],
   "source": [
    "from IPython.display import HTML\n",
    "\n",
    "HTML('''<script>\n",
    "code_show=true; \n",
    "function code_toggle() {\n",
    " if (code_show){\n",
    " $('div.input').hide();\n",
    " } else {\n",
    " $('div.input').show();\n",
    " }\n",
    " code_show = !code_show\n",
    "} \n",
    "$( document ).ready(code_toggle);\n",
    "</script>\n",
    "<form action=\"javascript:code_toggle()\"><input type=\"submit\" value=\"Click here to toggle on/off the raw code.\"></form>''')"
   ]
  },
  {
   "cell_type": "code",
   "execution_count": 23,
   "metadata": {
    "extensions": {
     "jupyter_dashboards": {
      "version": 1,
      "views": {
       "grid_default": {},
       "report_default": {}
      }
     }
    },
    "scrolled": false
   },
   "outputs": [
    {
     "name": "stdout",
     "output_type": "stream",
     "text": [
      "[*********************100%***********************]  3 of 3 completed\n"
     ]
    },
    {
     "data": {
      "application/vnd.jupyter.widget-view+json": {
       "model_id": "5b3a55aac71840b49c0422807ed8ae9c",
       "version_major": 2,
       "version_minor": 0
      },
      "text/plain": [
       "Output()"
      ]
     },
     "metadata": {},
     "output_type": "display_data"
    }
   ],
   "source": [
    "import plotly.graph_objects as go\n",
    "import pandas as pd\n",
    "from datetime import datetime\n",
    "import yfinance as yf\n",
    "import ipywidgets as widgets\n",
    "import ipywidgets as ipw\n",
    "from IPython.display import HTML, display,Javascript,clear_output\n",
    "from ipywidgets import interact, interactive, fixed, interact_manual\n",
    "# https://www.youtube.com/watch?v=abXuRM0QVD0&ab_channel=Elliott\n",
    "\n",
    "\n",
    "def plot_chart(stock_df):\n",
    "\n",
    "    import plotly.express as px\n",
    "    fig = go.Figure()\n",
    "    Candlestick=go.Candlestick(x=stock_df.index,\n",
    "                    open=stock_df['Open'],\n",
    "                    high=stock_df['High'],\n",
    "                    low=stock_df['Low'],\n",
    "                    close=stock_df['Close'],name='Candlestick')\n",
    "\n",
    "    #fig = px.line(google_df, x=google_df.index, y=\"30moving average\")\n",
    "\n",
    "    ma150=go.Scatter(x=stock_df.index, y=stock_df[\"150 days moving average\"],\n",
    "                        line=dict(color='yellow', width=4),\n",
    "                        name='150 moving average')\n",
    "    \n",
    "    ma50=go.Scatter(x=stock_df.index, y=stock_df[\"50 days moving average\"],\n",
    "                        line=dict(color='blue', width=4),\n",
    "                        name='50 moving average')\n",
    "\n",
    "\n",
    "\n",
    "    data=[Candlestick,ma50,ma150]\n",
    "    layout = go.Layout( \n",
    "        title=stock_df.name+\" Stock Price\",\n",
    "        title_x=0.5,\n",
    "        xaxis_title=\"Date\",\n",
    "        yaxis_title=\"Stock Price\",\n",
    "        legend_title=\"Legend\",\n",
    "        font=dict(\n",
    "            family=\"Courier New, monospace\",\n",
    "            size=12,\n",
    "            color=\"RebeccaPurple\"\n",
    "        ),\n",
    "        \n",
    "        legend=dict(\n",
    "        yanchor=\"top\",\n",
    "        y=0.99,\n",
    "        xanchor=\"left\",\n",
    "        x=0.01\n",
    "    ),\n",
    "        yaxis=dict(\n",
    "           autorange = True,\n",
    "           fixedrange= False\n",
    "       ),\n",
    "        width=1020,    height=700,)\n",
    "\n",
    "    figure = go.Figure(data=data, layout=layout)\n",
    "    f2 = go.FigureWidget(figure)\n",
    "    display(f2)\n",
    "    \n",
    "def linechart(stock_df):\n",
    "    fig = go.Figure([go.Scatter(x=stock_df.index, y=stock_df['High'])])\n",
    "    fig.update_layout(\n",
    "        title=stock_df.name+\" Stock Price\",\n",
    "        title_x=0.5,\n",
    "        xaxis_title=\"Date\",\n",
    "        yaxis_title=\"Stock Price\",\n",
    "        legend_title=\"Legend\",\n",
    "        font=dict(\n",
    "            family=\"Courier New, monospace\",\n",
    "            size=12,\n",
    "            color=\"RebeccaPurple\"\n",
    "        )\n",
    "    )\n",
    "    fig.show()\n",
    "\n",
    "\n",
    "def findstable(df,date,last,percentage=0.05):\n",
    "    df=df.loc[date:]\n",
    "    start=date\n",
    "    price=df.loc[date,'Open']\n",
    "    interval=[price*(1-percentage),price*(1+percentage)]\n",
    "    list1=[]\n",
    "    day_count=0\n",
    "    \n",
    "    for date,row in df.iterrows():\n",
    "        if (interval[0]<=row['High']<=interval[1]) and (interval[0]<=row['Low']<=interval[1]) and date!=df.index[-1]:\n",
    "            day_count+=1\n",
    "        else:\n",
    "            if day_count>=last or date==df.index[-1]:\n",
    "                list1.append((price,start,date,interval,day_count))\n",
    "            start=date    \n",
    "            price=row['Open']\n",
    "            interval=[price*(1-percentage),price*(1+percentage)]\n",
    "            day_count=0\n",
    "    return pd.DataFrame(list1,columns=['price','Start_date','End_date',str(percentage*100)+'% Interval','day count'])\n",
    "\n",
    "\n",
    "        \n",
    "def selectStock(df,Stock_Search,date):\n",
    "    date=date.value.strftime(\"%Y-%m-%d\")\n",
    "    temp=df.iloc[:, df.columns.get_level_values(1)==Stock_Search.value].copy()\n",
    "    temp=temp.loc[date:]\n",
    "    temp=temp.stack().droplevel(1)\n",
    "    temp.name=Stock_Search.label\n",
    "    plot_chart(temp)\n",
    "    #linechart(stock_df)    \n",
    "    df=findstable(temp,date,15)\n",
    "    del temp\n",
    "    display(df)\n",
    "    \n",
    "\n",
    "\n",
    "stock_df=yf.download(  # or pdr.get_data_yahoo(...\n",
    "        # tickers list or string as well\n",
    "        tickers = \"goog msft mpngf\",\n",
    "\n",
    "        # use \"period\" instead of start/end\n",
    "        # valid periods: 1d,5d,1mo,3mo,6mo,1y,2y,5y,10y,ytd,max\n",
    "        # (optional, default is '1mo')\n",
    "        period = \"max\")\n",
    "\n",
    "stock_list=stock_df.columns.get_level_values(1).unique()\n",
    "stock_df[[('50 days moving average',stock) for stock in stock_list]]=stock_df.xs('Close', axis=1, level=0).rolling(window=50).mean()\n",
    "stock_df[[('150 days moving average',stock) for stock in stock_list]]=stock_df.xs('Close', axis=1, level=0).rolling(window=150).mean()\n",
    "\n",
    "\n",
    "\n",
    "\n",
    "\n",
    "date=ipw.DatePicker(\n",
    "    description='Start Date',\n",
    "    disabled=False,\n",
    "    value=datetime(year=2020,month=1,day=3)\n",
    ")\n",
    "\n",
    "Dropdown=ipw.Dropdown( \n",
    "    options=[('Google','GOOG'),('Microsoft Corporation','MSFT'),('Meituan','MPNGF')],description='Stock:') #=[('One', 1), ('Two', 2), ('Three', 3)],\n",
    "\n",
    "btn=ipw.Button(description='Search',\n",
    "           disabled=False,\n",
    "           buttion_style='',\n",
    "           tooltip='Click me'\n",
    ")\n",
    "\n",
    "out = widgets.Output()\n",
    "\n",
    "search_row=ipw.HBox([Dropdown,date,btn])\n",
    "\n",
    "@out.capture()\n",
    "def is_onclick(b):\n",
    "    clear_output(True)\n",
    "    display(search_row)\n",
    "    selectStock(stock_df,Dropdown,date)\n",
    "    \n",
    "btn.on_click(is_onclick)\n",
    "btn.click()\n",
    "out"
   ]
  }
 ],
 "metadata": {
  "extensions": {
   "jupyter_dashboards": {
    "activeView": "grid_default",
    "version": 1,
    "views": {
     "grid_default": {
      "cellMargin": 10,
      "defaultCellHeight": 20,
      "maxColumns": 12,
      "name": "grid",
      "type": "grid"
     },
     "report_default": {
      "name": "report",
      "type": "report"
     }
    }
   }
  },
  "kernelspec": {
   "display_name": "Python 3",
   "language": "python",
   "name": "python3"
  },
  "language_info": {
   "codemirror_mode": {
    "name": "ipython",
    "version": 3
   },
   "file_extension": ".py",
   "mimetype": "text/x-python",
   "name": "python",
   "nbconvert_exporter": "python",
   "pygments_lexer": "ipython3",
   "version": "3.6.10"
  }
 },
 "nbformat": 4,
 "nbformat_minor": 4
}
